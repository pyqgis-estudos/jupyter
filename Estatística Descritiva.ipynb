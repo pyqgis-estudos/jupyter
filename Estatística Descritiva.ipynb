{
 "cells": [
  {
   "cell_type": "markdown",
   "metadata": {},
   "source": [
    "# Estatística Descritiva"
   ]
  },
  {
   "cell_type": "code",
   "execution_count": 2,
   "metadata": {},
   "outputs": [],
   "source": [
    "import pandas as pd\n",
    "import matplotlib.pyplot as plt\n",
    "import seaborn as sns\n",
    "\n",
    "%matplotlib inline\n",
    "plt.style.use('ggplot')"
   ]
  },
  {
   "cell_type": "code",
   "execution_count": 5,
   "metadata": {},
   "outputs": [],
   "source": [
    "# Leitura do datase\n",
    "PoliticalDataSet = pd.read_excel(r'C:\\Users\\Baliu-Fiamenghi\\Google Drive\\FAU Entregas\\17S\\Exercicios\\LISTA  DE EXERCÍCIOS 03 CPDS_2016.xlsx')"
   ]
  },
  {
   "cell_type": "code",
   "execution_count": 6,
   "metadata": {},
   "outputs": [
    {
     "data": {
      "text/html": [
       "<div>\n",
       "<style scoped>\n",
       "    .dataframe tbody tr th:only-of-type {\n",
       "        vertical-align: middle;\n",
       "    }\n",
       "\n",
       "    .dataframe tbody tr th {\n",
       "        vertical-align: top;\n",
       "    }\n",
       "\n",
       "    .dataframe thead th {\n",
       "        text-align: right;\n",
       "    }\n",
       "</style>\n",
       "<table border=\"1\" class=\"dataframe\">\n",
       "  <thead>\n",
       "    <tr style=\"text-align: right;\">\n",
       "      <th></th>\n",
       "      <th>year</th>\n",
       "      <th>country</th>\n",
       "      <th>bic</th>\n",
       "      <th>judrev</th>\n",
       "      <th>womenpar</th>\n",
       "    </tr>\n",
       "  </thead>\n",
       "  <tbody>\n",
       "    <tr>\n",
       "      <th>0</th>\n",
       "      <td>2016</td>\n",
       "      <td>Australia</td>\n",
       "      <td>Bicameralismo forte</td>\n",
       "      <td>Sim</td>\n",
       "      <td>28.7</td>\n",
       "    </tr>\n",
       "    <tr>\n",
       "      <th>1</th>\n",
       "      <td>2016</td>\n",
       "      <td>Austria</td>\n",
       "      <td>Bicameralismo fraco</td>\n",
       "      <td>Sim</td>\n",
       "      <td>31.1</td>\n",
       "    </tr>\n",
       "    <tr>\n",
       "      <th>2</th>\n",
       "      <td>2016</td>\n",
       "      <td>Belgium</td>\n",
       "      <td>Bicameralismo médio</td>\n",
       "      <td>Sim</td>\n",
       "      <td>38.0</td>\n",
       "    </tr>\n",
       "    <tr>\n",
       "      <th>3</th>\n",
       "      <td>2016</td>\n",
       "      <td>Bulgaria</td>\n",
       "      <td>Unicameralismo</td>\n",
       "      <td>Sim</td>\n",
       "      <td>20.4</td>\n",
       "    </tr>\n",
       "    <tr>\n",
       "      <th>4</th>\n",
       "      <td>2016</td>\n",
       "      <td>Canada</td>\n",
       "      <td>Bicameralismo médio</td>\n",
       "      <td>Sim</td>\n",
       "      <td>26.0</td>\n",
       "    </tr>\n",
       "    <tr>\n",
       "      <th>5</th>\n",
       "      <td>2016</td>\n",
       "      <td>Croatia</td>\n",
       "      <td>Unicameralismo</td>\n",
       "      <td>Sim</td>\n",
       "      <td>12.6</td>\n",
       "    </tr>\n",
       "    <tr>\n",
       "      <th>6</th>\n",
       "      <td>2016</td>\n",
       "      <td>Cyprus</td>\n",
       "      <td>Unicameralismo</td>\n",
       "      <td>Sim</td>\n",
       "      <td>17.9</td>\n",
       "    </tr>\n",
       "    <tr>\n",
       "      <th>7</th>\n",
       "      <td>2016</td>\n",
       "      <td>Czech Republic</td>\n",
       "      <td>Bicameralismo fraco</td>\n",
       "      <td>Sim</td>\n",
       "      <td>20.0</td>\n",
       "    </tr>\n",
       "    <tr>\n",
       "      <th>8</th>\n",
       "      <td>2016</td>\n",
       "      <td>Denmark</td>\n",
       "      <td>Unicameralismo</td>\n",
       "      <td>Sim</td>\n",
       "      <td>37.4</td>\n",
       "    </tr>\n",
       "    <tr>\n",
       "      <th>9</th>\n",
       "      <td>2016</td>\n",
       "      <td>Estonia</td>\n",
       "      <td>Unicameralismo</td>\n",
       "      <td>Sim</td>\n",
       "      <td>23.8</td>\n",
       "    </tr>\n",
       "    <tr>\n",
       "      <th>10</th>\n",
       "      <td>2016</td>\n",
       "      <td>Finland</td>\n",
       "      <td>Unicameralismo</td>\n",
       "      <td>Não</td>\n",
       "      <td>41.5</td>\n",
       "    </tr>\n",
       "    <tr>\n",
       "      <th>11</th>\n",
       "      <td>2016</td>\n",
       "      <td>France</td>\n",
       "      <td>Bicameralismo médio</td>\n",
       "      <td>Sim</td>\n",
       "      <td>26.2</td>\n",
       "    </tr>\n",
       "    <tr>\n",
       "      <th>12</th>\n",
       "      <td>2016</td>\n",
       "      <td>Germany</td>\n",
       "      <td>Bicameralismo forte</td>\n",
       "      <td>Sim</td>\n",
       "      <td>36.5</td>\n",
       "    </tr>\n",
       "    <tr>\n",
       "      <th>13</th>\n",
       "      <td>2016</td>\n",
       "      <td>Greece</td>\n",
       "      <td>Unicameralismo</td>\n",
       "      <td>Sim</td>\n",
       "      <td>19.7</td>\n",
       "    </tr>\n",
       "    <tr>\n",
       "      <th>14</th>\n",
       "      <td>2016</td>\n",
       "      <td>Hungary</td>\n",
       "      <td>Unicameralismo</td>\n",
       "      <td>Sim</td>\n",
       "      <td>10.1</td>\n",
       "    </tr>\n",
       "    <tr>\n",
       "      <th>15</th>\n",
       "      <td>2016</td>\n",
       "      <td>Iceland</td>\n",
       "      <td>Unicameralismo</td>\n",
       "      <td>Sim</td>\n",
       "      <td>47.6</td>\n",
       "    </tr>\n",
       "    <tr>\n",
       "      <th>16</th>\n",
       "      <td>2016</td>\n",
       "      <td>Ireland</td>\n",
       "      <td>Bicameralismo fraco</td>\n",
       "      <td>Sim</td>\n",
       "      <td>22.2</td>\n",
       "    </tr>\n",
       "    <tr>\n",
       "      <th>17</th>\n",
       "      <td>2016</td>\n",
       "      <td>Italy</td>\n",
       "      <td>Bicameralismo médio</td>\n",
       "      <td>Sim</td>\n",
       "      <td>31.0</td>\n",
       "    </tr>\n",
       "    <tr>\n",
       "      <th>18</th>\n",
       "      <td>2016</td>\n",
       "      <td>Japan</td>\n",
       "      <td>Bicameralismo médio</td>\n",
       "      <td>Sim</td>\n",
       "      <td>9.5</td>\n",
       "    </tr>\n",
       "    <tr>\n",
       "      <th>19</th>\n",
       "      <td>2016</td>\n",
       "      <td>Latvia</td>\n",
       "      <td>Unicameralismo</td>\n",
       "      <td>Sim</td>\n",
       "      <td>18.0</td>\n",
       "    </tr>\n",
       "    <tr>\n",
       "      <th>20</th>\n",
       "      <td>2016</td>\n",
       "      <td>Lithuania</td>\n",
       "      <td>Unicameralismo</td>\n",
       "      <td>Sim</td>\n",
       "      <td>21.3</td>\n",
       "    </tr>\n",
       "    <tr>\n",
       "      <th>21</th>\n",
       "      <td>2016</td>\n",
       "      <td>Luxembourg</td>\n",
       "      <td>Unicameralismo</td>\n",
       "      <td>Não</td>\n",
       "      <td>28.3</td>\n",
       "    </tr>\n",
       "    <tr>\n",
       "      <th>22</th>\n",
       "      <td>2016</td>\n",
       "      <td>Malta</td>\n",
       "      <td>Unicameralismo</td>\n",
       "      <td>Sim</td>\n",
       "      <td>12.9</td>\n",
       "    </tr>\n",
       "    <tr>\n",
       "      <th>23</th>\n",
       "      <td>2016</td>\n",
       "      <td>Netherlands</td>\n",
       "      <td>Bicameralismo médio</td>\n",
       "      <td>Não</td>\n",
       "      <td>37.3</td>\n",
       "    </tr>\n",
       "    <tr>\n",
       "      <th>24</th>\n",
       "      <td>2016</td>\n",
       "      <td>New Zealand</td>\n",
       "      <td>Unicameralismo</td>\n",
       "      <td>Não</td>\n",
       "      <td>31.4</td>\n",
       "    </tr>\n",
       "    <tr>\n",
       "      <th>25</th>\n",
       "      <td>2016</td>\n",
       "      <td>Norway</td>\n",
       "      <td>Unicameralismo</td>\n",
       "      <td>Sim</td>\n",
       "      <td>39.6</td>\n",
       "    </tr>\n",
       "    <tr>\n",
       "      <th>26</th>\n",
       "      <td>2016</td>\n",
       "      <td>Poland</td>\n",
       "      <td>Bicameralismo médio</td>\n",
       "      <td>Não</td>\n",
       "      <td>27.4</td>\n",
       "    </tr>\n",
       "    <tr>\n",
       "      <th>27</th>\n",
       "      <td>2016</td>\n",
       "      <td>Portugal</td>\n",
       "      <td>Unicameralismo</td>\n",
       "      <td>Sim</td>\n",
       "      <td>34.8</td>\n",
       "    </tr>\n",
       "    <tr>\n",
       "      <th>28</th>\n",
       "      <td>2016</td>\n",
       "      <td>Romania</td>\n",
       "      <td>Bicameralismo médio</td>\n",
       "      <td>Sim</td>\n",
       "      <td>13.7</td>\n",
       "    </tr>\n",
       "    <tr>\n",
       "      <th>29</th>\n",
       "      <td>2016</td>\n",
       "      <td>Slovakia</td>\n",
       "      <td>Unicameralismo</td>\n",
       "      <td>Sim</td>\n",
       "      <td>20.0</td>\n",
       "    </tr>\n",
       "    <tr>\n",
       "      <th>30</th>\n",
       "      <td>2016</td>\n",
       "      <td>Slovenia</td>\n",
       "      <td>Bicameralismo médio</td>\n",
       "      <td>Sim</td>\n",
       "      <td>36.7</td>\n",
       "    </tr>\n",
       "    <tr>\n",
       "      <th>31</th>\n",
       "      <td>2016</td>\n",
       "      <td>Spain</td>\n",
       "      <td>Bicameralismo médio</td>\n",
       "      <td>Sim</td>\n",
       "      <td>39.1</td>\n",
       "    </tr>\n",
       "    <tr>\n",
       "      <th>32</th>\n",
       "      <td>2016</td>\n",
       "      <td>Sweden</td>\n",
       "      <td>Unicameralismo</td>\n",
       "      <td>Sim</td>\n",
       "      <td>43.6</td>\n",
       "    </tr>\n",
       "    <tr>\n",
       "      <th>33</th>\n",
       "      <td>2016</td>\n",
       "      <td>Switzerland</td>\n",
       "      <td>Bicameralismo forte</td>\n",
       "      <td>Não</td>\n",
       "      <td>32.0</td>\n",
       "    </tr>\n",
       "    <tr>\n",
       "      <th>34</th>\n",
       "      <td>2016</td>\n",
       "      <td>USA</td>\n",
       "      <td>Bicameralismo forte</td>\n",
       "      <td>Sim</td>\n",
       "      <td>19.2</td>\n",
       "    </tr>\n",
       "  </tbody>\n",
       "</table>\n",
       "</div>"
      ],
      "text/plain": [
       "    year         country                  bic judrev  womenpar\n",
       "0   2016       Australia  Bicameralismo forte    Sim      28.7\n",
       "1   2016         Austria  Bicameralismo fraco    Sim      31.1\n",
       "2   2016         Belgium  Bicameralismo médio    Sim      38.0\n",
       "3   2016        Bulgaria       Unicameralismo    Sim      20.4\n",
       "4   2016          Canada  Bicameralismo médio    Sim      26.0\n",
       "5   2016         Croatia       Unicameralismo    Sim      12.6\n",
       "6   2016          Cyprus       Unicameralismo    Sim      17.9\n",
       "7   2016  Czech Republic  Bicameralismo fraco    Sim      20.0\n",
       "8   2016         Denmark       Unicameralismo    Sim      37.4\n",
       "9   2016         Estonia       Unicameralismo    Sim      23.8\n",
       "10  2016         Finland       Unicameralismo    Não      41.5\n",
       "11  2016          France  Bicameralismo médio    Sim      26.2\n",
       "12  2016         Germany  Bicameralismo forte    Sim      36.5\n",
       "13  2016          Greece       Unicameralismo    Sim      19.7\n",
       "14  2016         Hungary       Unicameralismo    Sim      10.1\n",
       "15  2016         Iceland       Unicameralismo    Sim      47.6\n",
       "16  2016         Ireland  Bicameralismo fraco    Sim      22.2\n",
       "17  2016           Italy  Bicameralismo médio    Sim      31.0\n",
       "18  2016           Japan  Bicameralismo médio    Sim       9.5\n",
       "19  2016          Latvia       Unicameralismo    Sim      18.0\n",
       "20  2016       Lithuania       Unicameralismo    Sim      21.3\n",
       "21  2016      Luxembourg       Unicameralismo    Não      28.3\n",
       "22  2016           Malta       Unicameralismo    Sim      12.9\n",
       "23  2016     Netherlands  Bicameralismo médio    Não      37.3\n",
       "24  2016     New Zealand       Unicameralismo    Não      31.4\n",
       "25  2016          Norway       Unicameralismo    Sim      39.6\n",
       "26  2016          Poland  Bicameralismo médio    Não      27.4\n",
       "27  2016        Portugal       Unicameralismo    Sim      34.8\n",
       "28  2016         Romania  Bicameralismo médio    Sim      13.7\n",
       "29  2016        Slovakia       Unicameralismo    Sim      20.0\n",
       "30  2016        Slovenia  Bicameralismo médio    Sim      36.7\n",
       "31  2016           Spain  Bicameralismo médio    Sim      39.1\n",
       "32  2016          Sweden       Unicameralismo    Sim      43.6\n",
       "33  2016     Switzerland  Bicameralismo forte    Não      32.0\n",
       "34  2016             USA  Bicameralismo forte    Sim      19.2"
      ]
     },
     "execution_count": 6,
     "metadata": {},
     "output_type": "execute_result"
    }
   ],
   "source": [
    "PoliticalDataSet"
   ]
  },
  {
   "cell_type": "code",
   "execution_count": 86,
   "metadata": {},
   "outputs": [
    {
     "data": {
      "text/plain": [
       "Unicameralismo         18\n",
       "Bicameralismo fraco     3\n",
       "Bicameralismo médio    10\n",
       "Bicameralismo forte     4\n",
       "Name: bic, dtype: int64"
      ]
     },
     "execution_count": 86,
     "metadata": {},
     "output_type": "execute_result"
    }
   ],
   "source": [
    "# Criação da tabela de frequência - bic\n",
    "order =['Unicameralismo', 'Bicameralismo fraco', 'Bicameralismo médio', 'Bicameralismo forte']\n",
    "\n",
    "# Cria a Série e depois reinexa, segundo a ordem\n",
    "bic_freq = PoliticalDataSet['bic'].value_counts().reindex(order)\n",
    "bic_freq"
   ]
  },
  {
   "cell_type": "code",
   "execution_count": 91,
   "metadata": {},
   "outputs": [
    {
     "data": {
      "image/png": "[encoded data removed]",
      "text/plain": [
       "<Figure size 432x288 with 1 Axes>"
      ]
     },
     "metadata": {
      "needs_background": "light"
     },
     "output_type": "display_data"
    }
   ],
   "source": [
    "my_colors = ['g', 'b']*5\n",
    "bic_freq.plot(kind='bar', rot = 30, color='k', stacked=True)\n",
    "\n",
    "#sns.barplot(data = bic_freq)\n",
    "\n",
    "\n",
    "# Enfeitando o gráfico\n",
    "plt.title('Bicameralismo')\n",
    "    # Título do eixo X\n",
    "#plt.xlabel('Videogame')\n",
    "    # Título do eixo Y\n",
    "plt.ylabel('Quantidade de países')\n",
    "plt.show()\n"
   ]
  },
  {
   "cell_type": "code",
   "execution_count": 20,
   "metadata": {},
   "outputs": [
    {
     "data": {
      "text/plain": [
       "Sim    29\n",
       "Não     6\n",
       "Name: judrev, dtype: int64"
      ]
     },
     "execution_count": 20,
     "metadata": {},
     "output_type": "execute_result"
    }
   ],
   "source": [
    "# Criação da tabela de frequência - judrev\n",
    "judrev_freq = PoliticalDataSet['judrev'].value_counts()\n",
    "judrev_freq"
   ]
  },
  {
   "cell_type": "code",
   "execution_count": 96,
   "metadata": {},
   "outputs": [
    {
     "data": {
      "image/png": "[encoded data removed]",
      "text/plain": [
       "<Figure size 432x288 with 1 Axes>"
      ]
     },
     "metadata": {},
     "output_type": "display_data"
    }
   ],
   "source": [
    "judrev_freq.plot(kind='pie')\n",
    "\n",
    "\n",
    "# Enfeitando o gráfico\n",
    "plt.title('Bicameralismo')\n",
    "\n",
    "plt.ylabel('')\n",
    "plt.show()"
   ]
  },
  {
   "cell_type": "markdown",
   "metadata": {},
   "source": [
    "## Medida de Tendência Central"
   ]
  },
  {
   "cell_type": "code",
   "execution_count": 25,
   "metadata": {},
   "outputs": [
    {
     "data": {
      "text/plain": [
       "0    Unicameralismo\n",
       "dtype: object"
      ]
     },
     "execution_count": 25,
     "metadata": {},
     "output_type": "execute_result"
    }
   ],
   "source": [
    "mtc_bic = PoliticalDataSet['bic'].mode()\n",
    "mtc_bic"
   ]
  },
  {
   "cell_type": "code",
   "execution_count": 27,
   "metadata": {},
   "outputs": [
    {
     "data": {
      "text/plain": [
       "0    Sim\n",
       "dtype: object"
      ]
     },
     "execution_count": 27,
     "metadata": {},
     "output_type": "execute_result"
    }
   ],
   "source": [
    "mtc_judrev = PoliticalDataSet['judrev'].mode()\n",
    "mtc_judrev"
   ]
  },
  {
   "cell_type": "code",
   "execution_count": 28,
   "metadata": {},
   "outputs": [
    {
     "data": {
      "text/plain": [
       "27.4"
      ]
     },
     "execution_count": 28,
     "metadata": {},
     "output_type": "execute_result"
    }
   ],
   "source": [
    "mtc_womenpar = PoliticalDataSet['womenpar'].median()\n",
    "mtc_womenpar"
   ]
  }
 ],
 "metadata": {
  "kernelspec": {
   "display_name": "Python 3",
   "language": "python",
   "name": "python3"
  },
  "language_info": {
   "codemirror_mode": {
    "name": "ipython",
    "version": 3
   },
   "file_extension": ".py",
   "mimetype": "text/x-python",
   "name": "python",
   "nbconvert_exporter": "python",
   "pygments_lexer": "ipython3",
   "version": "3.7.1"
  }
 },
 "nbformat": 4,
 "nbformat_minor": 2
}
